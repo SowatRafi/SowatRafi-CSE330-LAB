{
  "nbformat": 4,
  "nbformat_minor": 0,
  "metadata": {
    "colab": {
      "name": "Polynomial_Interpolation_Newton_Summer2020_Student.ipynb",
      "provenance": [],
      "collapsed_sections": []
    },
    "kernelspec": {
      "name": "python3",
      "display_name": "Python 3"
    }
  },
  "cells": [
    {
      "cell_type": "markdown",
      "metadata": {
        "id": "czoA0EnWua5v",
        "colab_type": "text"
      },
      "source": [
        "## CSE330 Lab: Polynomial Interpolation using Newton's Divided Difference form\n",
        "---"
      ]
    },
    {
      "cell_type": "markdown",
      "metadata": {
        "id": "8dQJpP15jzP9",
        "colab_type": "text"
      },
      "source": [
        "###1. Importing necessary libraries\n",
        "\n"
      ]
    },
    {
      "cell_type": "code",
      "metadata": {
        "id": "iLsFZK0JjoYk",
        "colab_type": "code",
        "colab": {}
      },
      "source": [
        "import numpy as np\n",
        "import matplotlib.pyplot as plt"
      ],
      "execution_count": null,
      "outputs": []
    },
    {
      "cell_type": "markdown",
      "metadata": {
        "id": "7RrXSL8lj3YR",
        "colab_type": "text"
      },
      "source": [
        "###2. Writing the `Newtons_Divided_Differences` class.\n",
        "\n",
        "Newton form of a $n$ degree polynomial:\n",
        "\n",
        "$$p_n(x) = \\sum_{k=0}^{n} a_kn_k(x)$$\n",
        "where the basis,\n",
        "$$n_k(x) = \\prod_{j=0}^{k-1}(x-x_j)$$\n",
        "$$ n_0(x)=1$$\n",
        "\n",
        "and the coefficients, $$a_k = f[x_0, x_1, ..., x_k]$$\n",
        "\n",
        "where the notation $f[x_0, x_1,...,x_k]$ denotes the divided difference.\n",
        "\n",
        "\n",
        "Expanding the Newton form:\n",
        "\n",
        "$$p(x) = f [x_0] + (x-x_0) f[x_0,x_1] + (x-x_0) (x-x_1) f[x_0,x_1,x_2] + . . . + (x-x_0) (x-x_1) . . . (x-x_{k-1}) f[x_0, x_1, . . ., x_k]$$\n"
      ]
    },
    {
      "cell_type": "markdown",
      "metadata": {
        "id": "qDM6A5gZo7_T",
        "colab_type": "text"
      },
      "source": [
        "\n",
        "### Task: \n",
        "1. Complete the `calc_div_diff(x,y)` function which takes as input `x` and `y` and calculates all the divided differences. You may use the lambda function `difference` inside the `calc_div_diff(x,y)` function to calculate the divided differences.\n",
        "\n",
        "2. Complete the `__call__` function which takes as input `x` and calculates `y` using all the difference coefficients. `x` can be a single value or a numpy. In this case it is a numpy array.\n",
        "\n",
        "\n",
        "\n",
        "`res` variable must contain all the results (corresponding y for x) and returned."
      ]
    },
    {
      "cell_type": "code",
      "metadata": {
        "id": "H6hA0gsKjUYq",
        "colab_type": "code",
        "colab": {}
      },
      "source": [
        "class Newtons_Divided_Differences:\n",
        "  def __init__(self, differences):\n",
        "    self.differences = differences\n",
        "    \n",
        "  def __call__(self, x):\n",
        "    \"\"\"\n",
        "    this function is for calculating y from given x using all the difference coefficients\n",
        "    x can be a single value or a numpy\n",
        "    the formula being used:\n",
        "    f(x) = f [x0] + (x-x0) f[x0,x1] + (x-x0) (x-x1) f[x0,x1,x2] + . . . + (x-x0) (x-x1) . . . (x-xk-1) f[x0, x1, . . ., xk]\n",
        "    \n",
        "    work on this after implementing 'calc_div_diff'. Then you should have\n",
        "    f[x0], f[x0,x1]. . . . . ., f[x0, x1, . . ., xk] stored in self.differences\n",
        "\n",
        "    'res' variable must return all the results (corresponding y for x)\n",
        "    \"\"\"\n",
        "    \n",
        "    res = np.zeros(len(x)) #Initialization to avoid runtime error. You can change this line if you wish\n",
        "    \n",
        "    # place your code here!!!!!!!!!!!!!!!!!!!!!!!\n",
        "    \n",
        "    return res\n"
      ],
      "execution_count": null,
      "outputs": []
    },
    {
      "cell_type": "code",
      "metadata": {
        "id": "NTND3V4xxkdM",
        "colab_type": "code",
        "colab": {}
      },
      "source": [
        "# basic rule for calculating the difference, implanted in the lambda function. \n",
        "# You may use it if you wish\n",
        "difference = lambda y2, y1, x2, x1: (y2-y1)/(x2-x1)\n",
        "\n",
        "\n",
        "def calc_div_diff(x,y):\n",
        "  assert(len(x)==len(y))\n",
        "  #write this function to calculate all the divided differences in the list 'b'\n",
        "  b = []\n",
        "  \n",
        "  #place your code here!!!!!!!!!!!!!!!!!!!!!!!!!\n",
        "      \n",
        "  return b"
      ],
      "execution_count": null,
      "outputs": []
    },
    {
      "cell_type": "markdown",
      "metadata": {
        "id": "GYpfaqvRuSS8",
        "colab_type": "text"
      },
      "source": [
        "###3. Creating and plotting the polynomial"
      ]
    },
    {
      "cell_type": "markdown",
      "metadata": {
        "id": "uH7EhC-fuTQD",
        "colab_type": "text"
      },
      "source": [
        "* `data_x` and `data_y` are the coordinates of the given nodes.\n",
        "\n",
        "* `differences` is a list which contains the divided differences as each of its elements: $f[x_0], f[x_0,x_1], f[x_0,x_1,x_2], ...$\n",
        "\n",
        "* `obj` is an object of type `Newtons_Divided_Differences`. Creating the object runs the constructor of the class where the `difference` are stored in `self.differences`.\n",
        "\n",
        "* `X` contains $x_i$ values through which we want to plot our polynomial.\n",
        "\n",
        "* Calling the object using `obj(X)` executes the `__call__` function of the class which returns a numpy array containing the corresponding $y_i$ values, and storing them in variable `F`.\n",
        "\n",
        "* Using `plt.plot(X,F)` we plot the $(x_i, y_i)$ pairs of the polynomial."
      ]
    },
    {
      "cell_type": "code",
      "metadata": {
        "id": "YCICBXzRjrNB",
        "colab_type": "code",
        "colab": {}
      },
      "source": [
        "data_x = np.array([-3.,-2.,-1.,0.,1.,3.,4.])\n",
        "data_y = np.array([-60.,-80.,6.,1.,45.,30.,16.])\n",
        "differences = calc_div_diff(list(data_x), list(data_y))\n",
        "obj = Newtons_Divided_Differences(list(differences))\n",
        "\n",
        "#generating 50 points from -3 to 4 in order to create a smooth line\n",
        "X = np.linspace(-3, 4, 50, endpoint=True)\n",
        "F = obj(X)\n",
        "plt.plot(X,F)\n",
        "plt.plot(data_x, data_y, 'ro')\n",
        "plt.show()"
      ],
      "execution_count": null,
      "outputs": []
    }
  ]
}