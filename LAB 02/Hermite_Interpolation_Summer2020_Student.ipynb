{
  "nbformat": 4,
  "nbformat_minor": 0,
  "metadata": {
    "colab": {
      "name": "Hermite_Interpolation_Summer2020_Student.ipynb",
      "provenance": [],
      "collapsed_sections": []
    },
    "kernelspec": {
      "name": "python3",
      "display_name": "Python 3"
    }
  },
  "cells": [
    {
      "cell_type": "markdown",
      "metadata": {
        "id": "I1P58HWP3HDu",
        "colab_type": "text"
      },
      "source": [
        "#CSE330 Lab: Hermite Interpolation\n",
        "---\n",
        "Hermite Interpolation is an example of a variant of the interpolation problem, where the interpolant matches one or more **derivatives of $f$**  at each of the nodes, in addition to the function values.\n"
      ]
    },
    {
      "cell_type": "markdown",
      "metadata": {
        "id": "1uBrmlD43DBf",
        "colab_type": "text"
      },
      "source": [
        "## Importing the necessary libraries"
      ]
    },
    {
      "cell_type": "code",
      "metadata": {
        "id": "9TU6lz9r3CNm",
        "colab_type": "code",
        "colab": {}
      },
      "source": [
        "import numpy as np\n",
        "import matplotlib.pyplot as plt\n",
        "from itertools import combinations \n",
        "from numpy.polynomial import Polynomial"
      ],
      "execution_count": null,
      "outputs": []
    },
    {
      "cell_type": "markdown",
      "metadata": {
        "id": "TmwCVuwX44_M",
        "colab_type": "text"
      },
      "source": [
        "## Creating the components for Hermite interpolation.\n",
        "\n",
        "For the case of Hermite Interpolation, we look for a polynomial that matches both $f'(x_i)$ and $f(x_i)$ at the nodes $x_i = x_0,...,x_n$. Say you have $n+1$ data points, $(x_0, y_0), (x_1, y_1), x_2, y_2), ... (x_n, y_n)$ and you happen to know the first-order derivative at all of these points, namely, $(x_0, y_0 ^\\prime ), (x_1, y_1 ^\\prime ), x_2, y_2 ^\\prime ),... ,(x_n, y_n ^\\prime )$. According to hermite interpolation, since there are $2n + 2$ conditions; $n+1$ for $f(x_i)$ plus $n+1$ for $f'(x_i)$; you can fit a polynomial of order $2n+1$. \n",
        "\n",
        "General form of a $2n+1$ degree Hermite polynomial:\n",
        "\n",
        "$$p_{2n+1} = \\sum_{k=0}^{n} \\left(f(x_k)h_k(x) + f'(x_k)\\hat{h}_k(x)\\right) \\tag{1}$$\n",
        "\n",
        "where $h_k$ and $\\hat{h}_k$ are defined using Lagrange basis functions by the following equations:\n",
        "\n",
        "$$h_k(x) = (1-2(x-x_k)l^\\prime_k(x_k))l^2_k(x_k) \\tag{2}$$\n",
        "\n",
        "and,\n",
        "\n",
        "$$\\hat{h}_k(x) = (x-x_k)l^2_k(x_k) \\tag{3}$$\n",
        "\n",
        "where the Lagrange basis function being,\n",
        "\n",
        "$$l_k(x) = \\prod_{j=0, j\\neq k}^{n} \\frac{x-x_j}{x_k-x_j} \\tag{4}$$"
      ]
    },
    {
      "cell_type": "markdown",
      "metadata": {
        "id": "fmES1JHjKBuD",
        "colab_type": "text"
      },
      "source": [
        "."
      ]
    },
    {
      "cell_type": "markdown",
      "metadata": {
        "id": "FidYA5HPEr9z",
        "colab_type": "text"
      },
      "source": [
        "**Note** that, we can rewrite equation $2$ in this way,\n",
        "\n",
        "\\begin{align}\n",
        "h_k(x) &= \\left(1-2(x-x_k)l^\\prime_k(x_k) \\right)l^2_k(x_k) \\\\\n",
        "&= \\left(1 - 2xl^\\prime_k(x_k) + 2x_kl^\\prime_k(x_k) \\right)l^2_k(x_k) \\\\\n",
        "&= \\left(1 + 2x_kl^\\prime_k(x_k) - 2l'_k(x_k)x \\right) l^2_k(x_k) \\tag{5}\n",
        "\\end{align}\n",
        "Replacing, $l^\\prime_k(x_k)$ with $m$ we get,\n",
        "$$h_k(x) = (1 - 2xm + 2x_km)l^2_k(x_k) \\tag{6}$$\n",
        "    \n"
      ]
    },
    {
      "cell_type": "markdown",
      "metadata": {
        "id": "r7MkEWWvJ95H",
        "colab_type": "text"
      },
      "source": [
        "."
      ]
    },
    {
      "cell_type": "markdown",
      "metadata": {
        "id": "K4aXwoMzJ2AM",
        "colab_type": "text"
      },
      "source": [
        "# Task\n",
        "\n",
        "* The functions: `l`, `h` and `h_hat` calculate the corresponding $l_k$, $h_k$ and $\\hat{h}_k$.\n",
        "\n",
        "* method `l` has already been defined for you. Your task is to complete the `h`, `h_hat` and `hermit` method.\n",
        "\n",
        "* Later we will draw some plots to check if the code is working.\n",
        "\n",
        "---"
      ]
    },
    {
      "cell_type": "markdown",
      "metadata": {
        "id": "ETozxbxpge3c",
        "colab_type": "text"
      },
      "source": [
        "### Method `l`: \n",
        "\n",
        "Already written for you.\n",
        "\n",
        "This function calculates equation $4$ and returns a polynomial.\n",
        "\n",
        "$$l_k(x) = \\prod_{j=0, j\\neq k}^{n} \\frac{x-x_j}{x_k-x_j} \\tag{4}$$"
      ]
    },
    {
      "cell_type": "code",
      "metadata": {
        "id": "W71a5upL_dt0",
        "colab_type": "code",
        "colab": {}
      },
      "source": [
        "def l(k, x):\n",
        "    n = len(x)\n",
        "    assert (k < len(x))\n",
        "    \n",
        "    x_k = x[k]\n",
        "    x_copy = np.delete(x, k)\n",
        "    \n",
        "    denominator = np.prod(x_copy - x_k)\n",
        "    \n",
        "    coeff = []\n",
        "    \n",
        "    for i in range(n):\n",
        "        coeff.append(sum([np.prod(x) for x in combinations(x_copy, i)]) * (-1)**(i) / denominator)\n",
        "    \n",
        "    coeff.reverse()\n",
        "    \n",
        "    return Polynomial(coeff)"
      ],
      "execution_count": null,
      "outputs": []
    },
    {
      "cell_type": "markdown",
      "metadata": {
        "id": "FrWQ7vkSM9ik",
        "colab_type": "text"
      },
      "source": [
        "### **Note:** For the following 3 functions: `l_k` denotes $l_k(x)$, `l_k_sqr` denotes $l^2_k(x)$ and `l_k_prime` denotes $l^\\prime_k(x)$.\n"
      ]
    },
    {
      "cell_type": "markdown",
      "metadata": {
        "id": "nMMSYKUrgQcv",
        "colab_type": "text"
      },
      "source": [
        "### Writing `h`:\n",
        "\n",
        "This function calculates equation $5$.\n",
        "$$h_k(x) = \\left(1 + 2x_kl^\\prime_k(x_k) - 2l'_k(x_k)x \\right) l^2_k(x_k) \\tag{5}$$\n",
        "\n",
        "Equation $5$ is basically a multiplication of two polynomials.\n",
        "\n",
        "First polynomial: $\\left(1 + 2x_kl^\\prime_k(x_k) - 2l'_k(x_k)x \\right)$\n",
        "\n",
        "Second polynomial:  $l^2_k(x_k)$\n",
        "\n",
        "The `coeff` variable should contain a python list of coefficient values for the **first** polynomial of equation $5$. These coefficient values are used to create a polynomial, `p`"
      ]
    },
    {
      "cell_type": "code",
      "metadata": {
        "id": "zljZNiuy_fLe",
        "colab_type": "code",
        "colab": {}
      },
      "source": [
        "def h(k, x):\n",
        "    # initialize with none\n",
        "    l_k = None\n",
        "    l_k_sqr = None\n",
        "    l_k_prime = None\n",
        "    coeff = None\n",
        "    p = None\n",
        "    # place your code here!!!!!!!!!!!!!!!!!!!!!!!\n",
        "    return p * l_k_sqr"
      ],
      "execution_count": null,
      "outputs": []
    },
    {
      "cell_type": "markdown",
      "metadata": {
        "id": "KHVbX3Epg9uc",
        "colab_type": "text"
      },
      "source": [
        "### Writing `h_hat`:\n",
        "This function calculates equation $3$:\n",
        "\n",
        "$$\\hat{h}_k(x) = (x-x_k)l^2_k(x_k) \\tag{3}$$\n",
        "\n",
        "Equation $3$ is also a multiplication of two polynomials.\n",
        "\n",
        "First polynomial: $(x-x_k)$\n",
        "\n",
        "Second polynomial:  $l^2_k(x_k)$\n",
        "\n",
        "The `coeff` variable should contain a python list of coefficient values for the **first** polynomial of equation $3$. These coefficient values are used to create a polynomial, `p`"
      ]
    },
    {
      "cell_type": "code",
      "metadata": {
        "id": "Pf-WEm16_hrU",
        "colab_type": "code",
        "colab": {}
      },
      "source": [
        "def h_hat(k, x):\n",
        "    # Initialize with none\n",
        "    l_k = None\n",
        "    l_k_sqr = None\n",
        "    coeff = None\n",
        "    p = None\n",
        "    # place your code here!!!!!!!!!!!!!!!!!!!!!!!\n",
        "    \n",
        "    return p * l_k_sqr"
      ],
      "execution_count": null,
      "outputs": []
    },
    {
      "cell_type": "markdown",
      "metadata": {
        "id": "bCSGw7CAg_nU",
        "colab_type": "text"
      },
      "source": [
        "### Writing `hermit`:\n",
        "\n",
        "This function calculates equation $1$:\n",
        "\n",
        "$$p_{2n+1} = \\sum_{k=0}^{n} \\left(f(x_k)h_k(x) + f'(x_k)\\hat{h}_k(x)\\right) \\tag{1}$$\n",
        "\n",
        "The polynomial denoted by equation $1$ is calculated by the variable `f`."
      ]
    },
    {
      "cell_type": "code",
      "metadata": {
        "id": "BVLvEXAu2uDv",
        "colab_type": "code",
        "colab": {}
      },
      "source": [
        "def hermit(x, y, y_prime):\n",
        "    assert( len(x) == len(y))\n",
        "    assert( len(y) == len(y_prime))\n",
        "    \n",
        "    f = Polynomial([0.0])\n",
        "    for i in range(len(x)):\n",
        "        # f += ?\n",
        "        pass # pass statement does nothing\n",
        "        # place your code here!!!!!!!!!!!!!!!!!!!!!!!\n",
        "    return f"
      ],
      "execution_count": null,
      "outputs": []
    },
    {
      "cell_type": "markdown",
      "metadata": {
        "id": "M3ST-GBS5iJa",
        "colab_type": "text"
      },
      "source": [
        "## 3. Testing our methods by plotting graphs.\n",
        "\n",
        "**Note:** \n",
        "\n",
        "* For each of the 5 plots, there will be 2 curves plotted; one being the original function and the other, the interpolated curve. \n",
        "\n",
        "* The original functions are displayed in orange color while the hermite interpolated curves are in blue. \n",
        "\n",
        "* `x`, `y` and `y_prime` contain $x_i$, $f(x_i)$ and $f'(x_i)$ of the given nodes of the original function, $f$.\n",
        "\n",
        "Upon calling the `hermit()` function, it returns a polynomial, `f`. For example, for plot 1, it is called `f3`.\n",
        "\n",
        "In general, a polynomial may look like the following: $ f = 1 + 2x + 3x^2 $. Then, we pass in a number of $x$ values to the polynomial by calling the `.linspace()` function on the polynomial object using `f.linspace()`. This function outputs a tuple which is stored in a variable called `data`. First element of `data` contains a 1D numpy array of $x_i$ values generated by `linspace()` and second element of `data` contains a 1D numpy array of the corresponding $y_i$ values outputted by our example polynomial,\n",
        "$f = 1 + 2x + 3x^2 $ \n",
        "\n",
        "Using `test_x` we generate a range of $x_i$ values to plot the original function and `test_y` contains the corresponding $y_i$ values of the original function. For the first plot, our original function is the sine curve.\n",
        "\n",
        "For all the plots:\n",
        "\n",
        "`plt.plot(test_x, test_y)` plots the original function.\n",
        "\n",
        "`plt.plot(data[0], data[1])` plots the interpolated polynomial."
      ]
    },
    {
      "cell_type": "code",
      "metadata": {
        "id": "Npc9fORyqQZH",
        "colab_type": "code",
        "colab": {}
      },
      "source": [
        "pi = np.pi\n",
        "x       = np.array([0.0, pi/2.0,  pi, 3.0*pi/2.0])\n",
        "y       = np.array([0.0,    1.0, 0.0,       -1.0])\n",
        "y_prime = np.array([1.0,    0.0, 1.0,        0.0])"
      ],
      "execution_count": null,
      "outputs": []
    },
    {
      "cell_type": "markdown",
      "metadata": {
        "id": "km_O1bYurgP1",
        "colab_type": "text"
      },
      "source": [
        "Plot 1: trying to interpolate a sine curve (`np.sin()`) using first 2 nodes in `x` and `y` and their corresponding derivative in `y_prime`."
      ]
    },
    {
      "cell_type": "code",
      "metadata": {
        "id": "VQsWCY12qHhI",
        "colab_type": "code",
        "colab": {}
      },
      "source": [
        "n = 1\n",
        "f3     = hermit(x[:(n+1)], y[:(n+1)], y_prime[:(n+1)])\n",
        "data   = f3.linspace(n=50, domain=[-3, 3])\n",
        "test_x = np.linspace(-3, 3, 50, endpoint=True)\n",
        "test_y = np.sin(test_x)\n",
        "\n",
        "plt.plot(data[0], data[1])\n",
        "plt.plot(test_x, test_y)\n",
        "plt.show()"
      ],
      "execution_count": null,
      "outputs": []
    },
    {
      "cell_type": "markdown",
      "metadata": {
        "id": "QM9G18QKr6U6",
        "colab_type": "text"
      },
      "source": [
        "Plot 2: trying to interpolate a sine curve (`np.sin()`) using first 3 nodes in `x` and `y` and their corresponding derivative in `y_prime`."
      ]
    },
    {
      "cell_type": "code",
      "metadata": {
        "id": "hObcVbDoqH9Y",
        "colab_type": "code",
        "colab": {}
      },
      "source": [
        "n = 2\n",
        "f5     = hermit(x[:(n+1)], y[:(n+1)], y_prime[:(n+1)])\n",
        "data   = f5.linspace(n=50, domain=[-0.7, 3])\n",
        "test_x = np.linspace(-2*pi, 2*pi, 50, endpoint=True)\n",
        "test_y = np.sin(test_x)\n",
        "\n",
        "plt.plot(test_x, test_y)\n",
        "plt.plot(data[0], data[1])\n",
        "plt.show()"
      ],
      "execution_count": null,
      "outputs": []
    },
    {
      "cell_type": "markdown",
      "metadata": {
        "id": "yOT2sTa9sDpH",
        "colab_type": "text"
      },
      "source": [
        "Plot 3: trying to interpolate a sine curve (`np.sin()`) using first 4 nodes in `x` and `y` and their corresponding derivative in `y_prime`."
      ]
    },
    {
      "cell_type": "code",
      "metadata": {
        "id": "syE6cpJbqH-x",
        "colab_type": "code",
        "colab": {}
      },
      "source": [
        "n = 3\n",
        "f7     = hermit(x[:(n+1)], y[:(n+1)], y_prime[:(n+1)])\n",
        "data   = f7.linspace(n=50, domain=[-0.3, 3])\n",
        "test_x = np.linspace(-2*pi, 2*pi, 50, endpoint=True)\n",
        "test_y = np.sin(test_x)\n",
        "\n",
        "plt.plot(data[0], data[1])\n",
        "plt.plot(test_x, test_y)\n",
        "plt.show()\n"
      ],
      "execution_count": null,
      "outputs": []
    },
    {
      "cell_type": "markdown",
      "metadata": {
        "id": "I0erAwTesXpN",
        "colab_type": "text"
      },
      "source": [
        "Plot 4: trying to interpolate an exponential curve (`np.exp()`) using all nodes in `x` and `y` and their corresponding derivatives in `y_prime`."
      ]
    },
    {
      "cell_type": "code",
      "metadata": {
        "id": "pTNxwHY3qH5I",
        "colab_type": "code",
        "colab": {}
      },
      "source": [
        "#defining new set of given node information: x, y and y'\n",
        "x       = np.array([0.0, 1.0,          2.0       ])\n",
        "y       = np.array([1.0, 2.71828183,  54.59815003])\n",
        "y_prime = np.array([0.0, 5.43656366, 218.39260013])\n",
        "\n",
        "\n",
        "f7      = hermit( x, y, y_prime)\n",
        "data    = f7.linspace(n=50, domain=[-0.5, 2.2])\n",
        "test_x  = np.linspace(-0.5, 2.2, 50, endpoint=True)\n",
        "test_y  = np.exp(test_x**2)\n",
        "\n",
        "plt.plot(data[0], data[1])\n",
        "plt.plot(test_x, test_y)\n",
        "plt.show()"
      ],
      "execution_count": null,
      "outputs": []
    },
    {
      "cell_type": "markdown",
      "metadata": {
        "id": "m-muYDk_siuN",
        "colab_type": "text"
      },
      "source": [
        "Plot 5: trying to interpolate $y = (x-3)^2 + 1$ using all nodes in `x` and `y` and their corresponding derivatives in `y_prime`.\n",
        "\n",
        "For this plot you might be able to see only one curve due to the two curves overlapping. This means that our polynomial is accurately interpolating the original function.\n"
      ]
    },
    {
      "cell_type": "code",
      "metadata": {
        "id": "mFqaI-lX4Zu4",
        "colab_type": "code",
        "colab": {}
      },
      "source": [
        "#defining new set of given node information: x, y and y'\n",
        "x       = np.array([1.0, 3.0, 5.0])\n",
        "y       = np.array([5.0, 1.0, 5.0])\n",
        "y_prime = np.array([-4.0, 0.0, 4.0])\n",
        "\n",
        "f7      = hermit( x, y, y_prime)\n",
        "data    = f7.linspace(n=50, domain=[-10, 10])\n",
        "test_x  = np.linspace(-10, 10, 50, endpoint=True)\n",
        "test_y  = (test_x-3)**2 + 1\n",
        "\n",
        "plt.plot(data[0], data[1])\n",
        "plt.plot(test_x, test_y)\n",
        "plt.show()"
      ],
      "execution_count": null,
      "outputs": []
    },
    {
      "cell_type": "markdown",
      "metadata": {
        "id": "eT236koLqarI",
        "colab_type": "text"
      },
      "source": [
        "End\n",
        "\n",
        "---"
      ]
    }
  ]
}