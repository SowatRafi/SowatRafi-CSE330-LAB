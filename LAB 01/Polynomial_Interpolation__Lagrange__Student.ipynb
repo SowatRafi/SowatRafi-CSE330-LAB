{
  "nbformat": 4,
  "nbformat_minor": 0,
  "metadata": {
    "colab": {
      "name": "Polynomial_Interpolation_(Lagrange)_Student.ipynb",
      "provenance": [],
      "collapsed_sections": []
    },
    "kernelspec": {
      "name": "python3",
      "display_name": "Python 3"
    }
  },
  "cells": [
    {
      "cell_type": "markdown",
      "metadata": {
        "id": "7UmN_petOh6Y",
        "colab_type": "text"
      },
      "source": [
        "## CSE330 Lab: Polynomial Interpolation using Lagrange Form\n",
        "---"
      ]
    },
    {
      "cell_type": "markdown",
      "metadata": {
        "id": "HHPzMTDjPF3B",
        "colab_type": "text"
      },
      "source": [
        "###1. Importing necessary libraries"
      ]
    },
    {
      "cell_type": "code",
      "metadata": {
        "id": "xauO0NGhPFHL",
        "colab_type": "code",
        "colab": {}
      },
      "source": [
        "import numpy as np\n",
        "import matplotlib.pyplot as plt"
      ],
      "execution_count": null,
      "outputs": []
    },
    {
      "cell_type": "markdown",
      "metadata": {
        "id": "wiOfo1xZPKXo",
        "colab_type": "text"
      },
      "source": [
        "###2. Writing the LagrangePolynomial class\n",
        "\n",
        "i) The constructor `__init__` has been written for you. \n",
        "    \n",
        "  * Here, we check whether the input vectors (numpy arrays) are equal or not. \n",
        "  * We store `data_x` and `data_y`\n",
        "  * We calculate and store the degree of the polynomial.\n",
        "\n",
        "ii) The `__repr__` function has been written for you. \n",
        "\n",
        "* This is similar to the toString() method in Java. This returns a formatted string of the object whenever the object is printed.\n",
        "\n",
        "\n",
        "**iii) You have to write the `__call__` function.** \n",
        "\n",
        "* This function makes an object of a class callable.\n",
        "* The function calculates the lagrange polynomial from a set of given nodes. `self.x` and `self.y` contains the coordinates of the given nodes of the original function. You have to use `self.x` and `self.y` in equations $1$ and $2$ below to find the interpolated output of the polynomial for all elements of `x`.\n",
        "`x` is a numpy array containing points through which we want to plot our polynomial. \n",
        "\n"
      ]
    },
    {
      "cell_type": "markdown",
      "metadata": {
        "id": "fyGlx00nUlPd",
        "colab_type": "text"
      },
      "source": [
        "General form for a $n$ degree Lagrange polynomial:\n",
        "\n",
        "\\begin{equation}\n",
        "p_n(x) = \\sum_{k=0}^{n} f(x_k)l_k(x)\\tag{1}\n",
        "\\end{equation}\n",
        "\n",
        "where,\n",
        "\\begin{equation}\n",
        "l_k(x) = \\prod_{j=0, j\\neq k}^{n} \\frac{x-x_j}{x_k-x_j} \\tag{2}\n",
        "\\end{equation}\n",
        "\n",
        "Note that the Lagrange method is more efficient than the matrix method since we do not need to calculate any inverse matrices.\n"
      ]
    },
    {
      "cell_type": "code",
      "metadata": {
        "id": "Ep7DC4BeNZRV",
        "colab_type": "code",
        "colab": {}
      },
      "source": [
        "class LagrangePolynomial:\n",
        "  def __init__(self, data_x, data_y):\n",
        "    '''\n",
        "    First we need to check whether the input vectors (numpy arrays) are equal \n",
        "    or not. \n",
        "    assert (condition), \"msg\"\n",
        "    this command checks if the condition is true or false. If true, the code \n",
        "    runs normally. But if false, then the code returns an error message \"msg\"\n",
        "    and stops execution\n",
        "    '''\n",
        "    assert len(data_x) == len(data_y), \"length of data_x and data_y must be equal\"\n",
        "\n",
        "    '''\n",
        "    Since lagrange polynomials do not use coefficeints a_i, rather the nodes \n",
        "    (x_i, y_i), we just need to store these inside the object\n",
        "    '''\n",
        "\n",
        "    self.x = data_x\n",
        "    self.y = data_y\n",
        "    \n",
        "    self.degree = len(data_x) - 1\n",
        "    # we assume that the inputs are numpy array, so we can perform \n",
        "    # element wise operations\n",
        "\n",
        "  def __repr__(self):\n",
        "    # method for string representation\n",
        "    # you don't need to worry about the following code if you don't understand\n",
        "    strL = f\"LagrangePolynomial of order {self.degree}\\n\"\n",
        "    strL += \"p(x) = \"\n",
        "    for i in range(len(self.y)):\n",
        "      if self.y[i] == 0:\n",
        "        continue\n",
        "      elif self.y[i] >= 0:\n",
        "        strL += f\"+ {self.y[i]}*l_{i}(x) \"\n",
        "      else:\n",
        "        strL += f\"- {-self.y[i]}*l_{i}(x) \"\n",
        "\n",
        "    return strL\n",
        "\n",
        "  def __call__(self, x):\n",
        "    \"\"\"\n",
        "    The method to make the object callable (see the code of the matrix method).\n",
        "    'x' is a set of given points (a numpy array). You have to use self.x and\n",
        "    self.y to find the interpolated output of the polynomial for all elements\n",
        "    of 'x'.\n",
        "\n",
        "    Implement as you wish but your 'total' numpy array where the i'th element\n",
        "    y[i] represents the interpolated value of p(x[i]).\n",
        "    \"\"\"\n",
        "    \n",
        "    # initialize with zero\n",
        "    y_interp  = np.zeros(len(x))\n",
        "    \n",
        "    #place your code here!!!!!!!!!!!!!!!!!!!!!!!!!\n",
        "\n",
        "    # hint 1:\n",
        "    # the code might start like this:\n",
        "    # for i in range(len(x)):\n",
        "    #   for k in range(self.degree + 1):\n",
        "    #       ??????\n",
        "    #       ??????\n",
        "    #       y_interp[i] = ?????\n",
        "\n",
        "    # hint 2:\n",
        "    # the following two functions might be useful\n",
        "    # 1) np.delete() [google!]\n",
        "    # 2) np.prod()  [google!]\n",
        "\n",
        "    \n",
        "    return y_interp\n",
        " "
      ],
      "execution_count": null,
      "outputs": []
    },
    {
      "cell_type": "markdown",
      "metadata": {
        "id": "zsx4K8smO41X",
        "colab_type": "text"
      },
      "source": [
        "###3. Calling the `LagrangePolynomial` object and plotting the polynomial.\n",
        "\n",
        "First we create a lagrange polynomial object, `p` by calling `LagrangePolynomial(data_x, data_y)`. Then, we call the object as a function (which is possible because we had implemented a `__call__` function in the `LagrangePolynomial` class) and pass in `x`. `x` is 1D numpy array (a vector) which we created using `linspace` function and contains $x_i$, i.e. the points through which we want to plot our polynomial. Calling the object as a function and inputting `x` returns the corresponding $y_i$ values and stores them in the `y_interp` numpy array. \n",
        "\n",
        "Finally, the polynomial is plotted by passing in $x$ and $y_{interp}$ in `plt.plot()`, i.e. the $x_i$ and $y_i$ pairs. \n",
        "\n",
        "Note that in the plot the given nodes will be marked in red."
      ]
    },
    {
      "cell_type": "code",
      "metadata": {
        "id": "id1BPvpOO0ZZ",
        "colab_type": "code",
        "colab": {}
      },
      "source": [
        "data_x = np.array([-3.,-2.,-1.,0.,1.,3.,4.])\n",
        "data_y = np.array([-60.,-80.,6.,1.,45.,30.,16.])\n",
        "\n",
        "p = LagrangePolynomial(data_x, data_y)\n",
        "print(p)\n",
        "#generating 100 points from -3 to 4 in order to create a smooth line\n",
        "x = np.linspace(-3, 4, 100)\n",
        "y_interp = p(x)\n",
        "\n",
        "# plot to see if your implementation is correct\n",
        "#google the functions to understand what each parameters mean, if not apparent\n",
        "plt.plot(x, y_interp)\n",
        "plt.plot(data_x, data_y, 'ro')\n",
        "plt.legend(['interpolated', 'node points'], loc = 'upper left')\n",
        "plt.xlabel('x')\n",
        "plt.ylabel('y')\n",
        "plt.title('Lagrange Polynomial')\n",
        "\n",
        "plt.show()"
      ],
      "execution_count": null,
      "outputs": []
    }
  ]
}