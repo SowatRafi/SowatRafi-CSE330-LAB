{
  "nbformat": 4,
  "nbformat_minor": 0,
  "metadata": {
    "colab": {
      "name": "Forward_Backward_Central_Differentiation_Summer2020_Student.ipynb",
      "provenance": [],
      "collapsed_sections": []
    },
    "kernelspec": {
      "display_name": "Python 3",
      "name": "python3"
    }
  },
  "cells": [
    {
      "cell_type": "markdown",
      "metadata": {
        "id": "Lx42-igk_rae",
        "colab_type": "text"
      },
      "source": [
        "# CSE 330 Numerical Analysis Lab \n",
        "\n"
      ]
    },
    {
      "cell_type": "markdown",
      "metadata": {
        "id": "MbBfc_txUG6E",
        "colab_type": "text"
      },
      "source": [
        "## Assignment 2: Differentiation\n",
        "\n",
        "We have already learnt about *forward differentiation*, *backward diferentiation* and *central differentiation*. In this part of the assignment we will write methods to calculate this values and check how they perform.\n",
        "\n",
        "The equations are as follows,\n",
        "\n",
        "\\begin{align}\n",
        "\\text{forward differentiation}, f^\\prime(x) \\simeq \\frac{f(x+h)-f(x)}{h} \\tag{4.6} \\\\\n",
        "\\text{backward differentiation}, f^\\prime(x) \\simeq \\frac{f(x)-f(x-h)}{h} \\tag{4.7} \\\\\n",
        "\\text{central differentiation}, f^\\prime(x) \\simeq \\frac{f(x+h)-f(x-h)}{2h} \\tag{4.8}\n",
        "\\end{align}\n",
        "\n",
        "Importing libraries"
      ]
    },
    {
      "cell_type": "code",
      "metadata": {
        "id": "DE6dn-eMX9CM",
        "colab_type": "code",
        "colab": {}
      },
      "source": [
        "import numpy as np\n",
        "import matplotlib.pyplot as plt\n",
        "from numpy.polynomial import Polynomial"
      ],
      "execution_count": null,
      "outputs": []
    },
    {
      "cell_type": "markdown",
      "metadata": {
        "id": "s-Kdj8zfUm-8",
        "colab_type": "text"
      },
      "source": [
        "Here, `forward_diff`, `backward_diff` and `central_diff` calculates the *forward differentiation*, *backward differentiation* and *central differentiation* respectively. finally the `error` method calculates the different values for various $h$ and returns the errors.\n",
        "\n",
        "Later we will run some code to test out performance. The first one is done for you."
      ]
    },
    {
      "cell_type": "code",
      "metadata": {
        "id": "-z8YZpQNX-oV",
        "colab_type": "code",
        "colab": {}
      },
      "source": [
        "def forward_diff(f, h, x):\n",
        "    return (f(x+h) - f(x))/h"
      ],
      "execution_count": null,
      "outputs": []
    },
    {
      "cell_type": "code",
      "metadata": {
        "id": "BNs5tnUwYAVo",
        "colab_type": "code",
        "colab": {}
      },
      "source": [
        "def backward_diff(f, h, x):\n",
        "    return # insert your code here"
      ],
      "execution_count": null,
      "outputs": []
    },
    {
      "cell_type": "code",
      "metadata": {
        "id": "91F6pG8eYCA-",
        "colab_type": "code",
        "colab": {}
      },
      "source": [
        "def central_diff(f, h, x):\n",
        "    return # insert your code here"
      ],
      "execution_count": null,
      "outputs": []
    },
    {
      "cell_type": "code",
      "metadata": {
        "id": "tlT3j_EgUgjL",
        "colab_type": "code",
        "colab": {}
      },
      "source": [
        "def error(f, f_prime, h, x):\n",
        "    Y_correct = f_prime(x)\n",
        "    f_error = np.array([])\n",
        "    b_error = np.array([])\n",
        "    c_error = np.array([])\n",
        "    \n",
        "    for h_i in h:\n",
        "        # for different values of h (h_i)\n",
        "        # calculate the error at the point x for  (i) forward method \n",
        "        #                                         (ii) backward method\n",
        "        #                                         (ii) central method\n",
        "        # the first one is done for you\n",
        "        f_error_h_i = forward_diff(f, h_i, x) - y_correct\n",
        "        f_error = np.append(f_error, f_error_h_i)\n",
        "\n",
        "        # insert your code here\n",
        "        pass\n",
        "    \n",
        "    return f_error, b_error, c_error"
      ],
      "execution_count": null,
      "outputs": []
    },
    {
      "cell_type": "markdown",
      "metadata": {
        "id": "2xJcOr1jl_Z5",
        "colab_type": "text"
      },
      "source": [
        "Plot1: Polynomial and Actual Derivative Function"
      ]
    },
    {
      "cell_type": "code",
      "metadata": {
        "id": "EzXaulEMYH89",
        "colab_type": "code",
        "colab": {}
      },
      "source": [
        "fig, ax = plt.subplots()\n",
        "ax.axhline(y=0, color='k')\n",
        "\n",
        "p = Polynomial([2.0, 1.0, -6.0, -2.0, 2.5, 1.0])\n",
        "data = p.linspace(domain=[-2.4, 1.5])\n",
        "ax.plot(data[0], data[1], label='Function')\n",
        "\n",
        "p_prime = p.deriv(1)\n",
        "data2 = p_prime.linspace(domain=[-2.4, 1.5])\n",
        "ax.plot(data2[0], data2[1], label='Derivative')\n",
        "\n",
        "ax.legend()"
      ],
      "execution_count": null,
      "outputs": []
    },
    {
      "cell_type": "markdown",
      "metadata": {
        "id": "in5YWVvdmG6c",
        "colab_type": "text"
      },
      "source": [
        "Plot2: Actual Derivative Function and Forward, Backward, Central Functions with h = 1"
      ]
    },
    {
      "cell_type": "code",
      "metadata": {
        "id": "bShkNM4PYJuR",
        "colab_type": "code",
        "colab": {}
      },
      "source": [
        "h = 1\n",
        "fig, bx = plt.subplots()\n",
        "bx.axhline(y=0, color='k')\n",
        "\n",
        "x = np.linspace(-2.0, 1.3, 50, endpoint=True)\n",
        "y = forward_diff(p, h, x)\n",
        "bx.plot(x, y, label='Forward; h=1')\n",
        "y = backward_diff(p, h, x)\n",
        "bx.plot(x, y, label='Backward; h=1')\n",
        "y = central_diff(p, h, x)\n",
        "bx.plot(x, y, label='Central; h=1')\n",
        "\n",
        "data2 = p_prime.linspace(domain=[-2.0, 1.3])\n",
        "bx.plot(data2[0], data2[1], label='actual')\n",
        "\n",
        "bx.legend()\n"
      ],
      "execution_count": null,
      "outputs": []
    },
    {
      "cell_type": "markdown",
      "metadata": {
        "id": "69NEoW4dmWmn",
        "colab_type": "text"
      },
      "source": [
        "Plot3: Actual Derivative Function and Forward, Backward, Central Functions with h = 0.1"
      ]
    },
    {
      "cell_type": "code",
      "metadata": {
        "id": "talRvjXeYLm6",
        "colab_type": "code",
        "colab": {}
      },
      "source": [
        "h = 0.1\n",
        "fig, bx = plt.subplots()\n",
        "bx.axhline(y=0, color='k')\n",
        "\n",
        "x = np.linspace(-2.2, 1.3, 50, endpoint=True)\n",
        "y = forward_diff(p, h, x)\n",
        "bx.plot(x, y, label='Forward; h=0.1')\n",
        "y = backward_diff(p, h, x)\n",
        "bx.plot(x, y, label='Backward; h=0.1')\n",
        "y = central_diff(p, h, x)\n",
        "bx.plot(x, y, label='Central; h=0.1')\n",
        "\n",
        "data2 = p_prime.linspace(domain=[-2.2, 1.3])\n",
        "bx.plot(data2[0], data2[1], label='actual')\n",
        "\n",
        "bx.legend()"
      ],
      "execution_count": null,
      "outputs": []
    },
    {
      "cell_type": "markdown",
      "metadata": {
        "id": "RLccxl6GmY8i",
        "colab_type": "text"
      },
      "source": [
        "Plot4: Actual Derivative Function and Forward, Backward, Central Functions with h = 0.01"
      ]
    },
    {
      "cell_type": "code",
      "metadata": {
        "id": "z2MT1j2sYNk7",
        "colab_type": "code",
        "colab": {}
      },
      "source": [
        "h = 0.01\n",
        "fig, bx = plt.subplots()\n",
        "bx.axhline(y=0, color='k')\n",
        "\n",
        "x = np.linspace(-2.2, 1.3, 50, endpoint=True)\n",
        "y = forward_diff(p, h, x)\n",
        "bx.plot(x, y, label='Forward; h=0.01')\n",
        "y = backward_diff(p, h, x)\n",
        "bx.plot(x, y, label='Backward; h=0.01')\n",
        "y = central_diff(p, h, x)\n",
        "bx.plot(x, y, label='Central; h=0.01')\n",
        "\n",
        "data2 = p_prime.linspace(domain=[-2.2, 1.3])\n",
        "bx.plot(data2[0], data2[1], label='actual')\n",
        "\n",
        "bx.legend()"
      ],
      "execution_count": null,
      "outputs": []
    },
    {
      "cell_type": "markdown",
      "metadata": {
        "id": "JOutl8CYl63l",
        "colab_type": "text"
      },
      "source": [
        "Plot5: Error Curves for Forward, Backward and Central "
      ]
    },
    {
      "cell_type": "code",
      "metadata": {
        "id": "Hv6GfMIxWIUi",
        "colab_type": "code",
        "colab": {}
      },
      "source": [
        "fig, bx = plt.subplots()\n",
        "bx.axhline(y=0, color='k')\n",
        "\n",
        "h = np.array([1., 0.55, 0.3, .17, 0.1, 0.055, 0.03, 0.017, 0.01])\n",
        "err = error(p, p_prime, h, 2.0)\n",
        "\n",
        "bx.plot(h, err[0], label='Forward')\n",
        "bx.plot(h, err[1], label='Backward')\n",
        "bx.plot(h, err[2], label='Central')\n",
        "bx.legend()"
      ],
      "execution_count": null,
      "outputs": []
    }
  ]
}